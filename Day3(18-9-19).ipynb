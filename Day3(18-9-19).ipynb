{
 "cells": [
  {
   "cell_type": "markdown",
   "metadata": {},
   "source": [
    "### Programming in Python with  Strings\n",
    "- Strings\n",
    "- String Scling\n",
    "- Fundamental Programs and Examples with Strings"
   ]
  },
  {
   "cell_type": "code",
   "execution_count": 3,
   "metadata": {},
   "outputs": [
    {
     "name": "stdout",
     "output_type": "stream",
     "text": [
      "python\n",
      "programming\n",
      "A\n",
      "<class 'str'>\n",
      "<class 'str'>\n",
      "<class 'str'>\n"
     ]
    }
   ],
   "source": [
    "s1 = 'python'\n",
    "s2 =\"programming\"\n",
    "s3 ='A'\n",
    "print(s1)\n",
    "print(s2)\n",
    "print(s3)\n",
    "print(type(s1))\n",
    "print(type(s2))\n",
    "print(type(s3))"
   ]
  },
  {
   "cell_type": "markdown",
   "metadata": {},
   "source": [
    "String Slicing"
   ]
  },
  {
   "cell_type": "code",
   "execution_count": 13,
   "metadata": {},
   "outputs": [
    {
     "name": "stdout",
     "output_type": "stream",
     "text": [
      "p\n",
      "y\n",
      "6\n",
      "n\n",
      "n\n",
      "o\n",
      "h\n"
     ]
    }
   ],
   "source": [
    "s1 = \"python\"\n",
    "print(s1[0]) \n",
    "print(s1[1])\n",
    "print(len(s1))\n",
    "print(s1[len(s1)-1])\n",
    "print(s1[-1])  #last character in the string\n",
    "print(s1[-2])# prints last but one character in the string\n",
    "print(s1[-3])\n"
   ]
  },
  {
   "cell_type": "code",
   "execution_count": 33,
   "metadata": {},
   "outputs": [
    {
     "name": "stdout",
     "output_type": "stream",
     "text": [
      "py\n",
      "on\n",
      "hon\n",
      "tho\n",
      "ytho\n",
      "\n"
     ]
    }
   ],
   "source": [
    "print(s1[0:2])#2nd index doesnt consider (accessing the first two characters)\n",
    "print(s1[-2:])\n",
    "print(s1[3:])\n",
    "print(s1[2:5])\n",
    "print(s1[1:-1])#prints all the elements except first and last character\n",
    "print(s1[-2:2])"
   ]
  },
  {
   "cell_type": "code",
   "execution_count": 34,
   "metadata": {},
   "outputs": [
    {
     "data": {
      "text/plain": [
       "'nohtyp'"
      ]
     },
     "execution_count": 34,
     "metadata": {},
     "output_type": "execute_result"
    }
   ],
   "source": [
    "s1[-1::-1]"
   ]
  },
  {
   "cell_type": "code",
   "execution_count": 35,
   "metadata": {},
   "outputs": [
    {
     "data": {
      "text/plain": [
       "'pto'"
      ]
     },
     "execution_count": 35,
     "metadata": {},
     "output_type": "execute_result"
    }
   ],
   "source": [
    "#Access the characters in string alternate\n",
    "#python --pto\n",
    "s1[::2]"
   ]
  },
  {
   "cell_type": "code",
   "execution_count": 36,
   "metadata": {},
   "outputs": [
    {
     "data": {
      "text/plain": [
       "'nhy'"
      ]
     },
     "execution_count": 36,
     "metadata": {},
     "output_type": "execute_result"
    }
   ],
   "source": [
    "#access the alternate characters from reverse direction\n",
    "#Python --nhy\n",
    "s1[::-2]"
   ]
  },
  {
   "cell_type": "code",
   "execution_count": 37,
   "metadata": {},
   "outputs": [
    {
     "data": {
      "text/plain": [
       "'ph'"
      ]
     },
     "execution_count": 37,
     "metadata": {},
     "output_type": "execute_result"
    }
   ],
   "source": [
    "s1[::3]"
   ]
  },
  {
   "cell_type": "markdown",
   "metadata": {},
   "source": [
    "### Functions with a string operations\n",
    "### reverse a string "
   ]
  },
  {
   "cell_type": "code",
   "execution_count": 38,
   "metadata": {},
   "outputs": [
    {
     "data": {
      "text/plain": [
       "'nohtyP'"
      ]
     },
     "execution_count": 38,
     "metadata": {},
     "output_type": "execute_result"
    }
   ],
   "source": [
    "def reverseStr(s):\n",
    "    return s[-1::-1]\n",
    "reverseStr('Python')"
   ]
  },
  {
   "cell_type": "code",
   "execution_count": 43,
   "metadata": {},
   "outputs": [
    {
     "name": "stdout",
     "output_type": "stream",
     "text": [
      "False\n",
      "True\n"
     ]
    }
   ],
   "source": [
    "# to check the given string is palindrome or not\n",
    "def isPalindrome(s):\n",
    "    if s == s[-1::-1]:\n",
    "        return True\n",
    "    return False\n",
    "print(isPalindrome('Python'))\n",
    "print(isPalindrome('ganag'))"
   ]
  },
  {
   "cell_type": "code",
   "execution_count": 44,
   "metadata": {},
   "outputs": [
    {
     "name": "stdout",
     "output_type": "stream",
     "text": [
      "P T "
     ]
    }
   ],
   "source": [
    "#Function to print the upper case characters \n",
    "# Example : PyThon --PT\n",
    "# AsCII\n",
    "#A-Z  : 65-90\n",
    "#a-z  :97-122\n",
    "#0-9   :48-57\n",
    "#space   :32\n",
    "def printUpper(s):\n",
    "    for i in range(len(s)):\n",
    "        if ord(s[i])>=65 and ord(s[i]) <= 90:\n",
    "            print(s[i],end=' ')\n",
    "    return\n",
    "printUpper('PyThon')\n",
    "\n"
   ]
  },
  {
   "cell_type": "code",
   "execution_count": 46,
   "metadata": {},
   "outputs": [
    {
     "data": {
      "text/plain": [
       "122"
      ]
     },
     "execution_count": 46,
     "metadata": {},
     "output_type": "execute_result"
    }
   ],
   "source": [
    "ord('z')# ord function gives the output as number which is equal to ascii number"
   ]
  },
  {
   "cell_type": "code",
   "execution_count": 48,
   "metadata": {},
   "outputs": [
    {
     "data": {
      "text/plain": [
       "48"
      ]
     },
     "execution_count": 48,
     "metadata": {},
     "output_type": "execute_result"
    }
   ],
   "source": [
    "ord('0')"
   ]
  },
  {
   "cell_type": "code",
   "execution_count": 50,
   "metadata": {},
   "outputs": [
    {
     "data": {
      "text/plain": [
       "57"
      ]
     },
     "execution_count": 50,
     "metadata": {},
     "output_type": "execute_result"
    }
   ],
   "source": [
    "ord('9')"
   ]
  },
  {
   "cell_type": "code",
   "execution_count": 61,
   "metadata": {},
   "outputs": [],
   "source": [
    "# function to return output as \"SameCount\" or \"Programming\"\n",
    "# SameCount -- Lower and Upper chars have same count\n",
    "#Programming -- count of lower and upper case is not same\n",
    "#Example #1 : PyThOn --3 P T O\n",
    "                        #--3 y h n\n",
    "#\n",
    "#output : SameCount\n",
    "\n",
    "#Example #2 : PythoN --2 P N\n",
    "                        #4 y t h o\n",
    "#output : Programming\n",
    "def printUpper(s):\n",
    "    Ucount=0\n",
    "    Lcount=0\n",
    "    for i in range(len(s)):\n",
    "        if ord(s[i])>=65 and ord(s[i]) <= 90:\n",
    "            Ucount = Ucount +i\n",
    "            if ord(s[i])>=97 and ord(s[i]) <= 122:\n",
    "                Lcount = Lcount +i\n",
    "                if Ucount == Lcount:\n",
    "                    print('SameCount')\n",
    "                else:\n",
    "                        print('Programming')\n",
    "            \n",
    "            #print(s[i],end=' ')\n",
    "            \n",
    "    return\n",
    "printUpper('PyThOn')\n",
    "printUpper('PythoN')\n",
    "\n",
    "\n",
    "\n",
    "\n",
    "\n"
   ]
  },
  {
   "cell_type": "code",
   "execution_count": 69,
   "metadata": {},
   "outputs": [
    {
     "data": {
      "text/plain": [
       "'Programming'"
      ]
     },
     "execution_count": 69,
     "metadata": {},
     "output_type": "execute_result"
    }
   ],
   "source": [
    "def findCharCount(s):\n",
    "    cntUpper=0\n",
    "    cntLower=0\n",
    "    for i in range(len(s)):\n",
    "        if ord(s[i])>= 65 and ord(s[i])<=90:\n",
    "            cntUpper +=1\n",
    "        elif ord(s[i])>= 97 and ord(s[i])<=122:\n",
    "            cntLower +=1\n",
    "    if cntLower == cntUpper:\n",
    "        return \"SameCount\"\n",
    "    return \"Programming\"\n",
    "findCharCount('PyThoN')\n",
    "findCharCount('PythoN')\n"
   ]
  },
  {
   "cell_type": "code",
   "execution_count": 76,
   "metadata": {},
   "outputs": [
    {
     "name": "stdout",
     "output_type": "stream",
     "text": [
      "1 8 8 9 "
     ]
    }
   ],
   "source": [
    "# Function to extract the digits from the string\n",
    "#Example #1:\n",
    "#Input : Appli18cation89\n",
    "#Output : 1 8 8 9\n",
    "def findDigit(s):\n",
    "    for i in range(len(s)):\n",
    "        if ord(s[i])>=48 and ord(s[i])<=57:\n",
    "            print(s[i],end=' ')\n",
    "    return\n",
    "findDigit('Appli18cation89')\n"
   ]
  },
  {
   "cell_type": "code",
   "execution_count": 79,
   "metadata": {},
   "outputs": [
    {
     "name": "stdout",
     "output_type": "stream",
     "text": [
      "samecount\n",
      "Programming\n"
     ]
    }
   ],
   "source": [
    "def charCount(s):\n",
    "    ucase = 0\n",
    "    lcase = 0\n",
    "    for i in range(len(s)):\n",
    "        if ord(s[i])>=65 and ord(s[i])<=90:\n",
    "            ucase=ucase+1  #ucase +=1\n",
    "        elif ord(s[i])>=97 and ord(s[i])<=122:\n",
    "            lcase=lcase+1   #lcase +=1\n",
    "    if ucase == lcase:\n",
    "        return\"samecount\"\n",
    "    return\"Programming\"\n",
    "print(charCount('PyThoN'))\n",
    "print(charCount('PythoN'))\n"
   ]
  },
  {
   "cell_type": "code",
   "execution_count": 91,
   "metadata": {},
   "outputs": [
    {
     "data": {
      "text/plain": [
       "26"
      ]
     },
     "execution_count": 91,
     "metadata": {},
     "output_type": "execute_result"
    }
   ],
   "source": [
    "# Function to add the digits of a given string\n",
    "#Example #1:\n",
    "#Input : Appli18cation89\n",
    "#output : 26 (1+8+8+9)\n",
    "def findDigitSum(s):\n",
    "    sum = 0\n",
    "    for i in range(len(s)):\n",
    "        if ord(s[i])>=48 and ord(s[i])<=57:\n",
    "            sum=sum+int(s[i])\n",
    "    return sum\n",
    "findDigitSum('Appli18cation89')"
   ]
  },
  {
   "cell_type": "code",
   "execution_count": 92,
   "metadata": {},
   "outputs": [
    {
     "ename": "SyntaxError",
     "evalue": "invalid syntax (<ipython-input-92-d501f2b71ae5>, line 10)",
     "output_type": "error",
     "traceback": [
      "\u001b[1;36m  File \u001b[1;32m\"<ipython-input-92-d501f2b71ae5>\"\u001b[1;36m, line \u001b[1;32m10\u001b[0m\n\u001b[1;33m    for i range(len(s)):\u001b[0m\n\u001b[1;37m              ^\u001b[0m\n\u001b[1;31mSyntaxError\u001b[0m\u001b[1;31m:\u001b[0m invalid syntax\n"
     ]
    }
   ],
   "source": [
    "#Function to specific word in upper case\n",
    "#Example #1:\n",
    "#Input : Python Made Easy\n",
    "#Output : MADE\n",
    "# Example #2:\n",
    "#Input : Learn Python Strings\n",
    "#Output : PYTHON\n",
    "\n",
    "def toUpper(s):\n",
    "    for i range(len(s)):\n",
    "        if ord(s[i]==32::s[-1]):\n",
    "            print(s[i],end' ')\n",
    "        return\n",
    "toUpper('Learn Python Strings')\n",
    "               \n",
    "            "
   ]
  },
  {
   "cell_type": "code",
   "execution_count": 95,
   "metadata": {},
   "outputs": [
    {
     "name": "stdout",
     "output_type": "stream",
     "text": [
      "MADE"
     ]
    }
   ],
   "source": [
    "def wordUpperCase(s):\n",
    "    cntSpace =0\n",
    "    for i in range(len(s)):\n",
    "        if ord(s[i]) == 32:\n",
    "            cntSpace +=1\n",
    "        if cntSpace == 1:\n",
    "            if ord(s[i])>=65 and ord(s[i])<=90:\n",
    "                print(s[i],end='')\n",
    "            elif ord(s[i])>=97 and ord(s[i])<=122:\n",
    "                print(chr(ord(s[i])-32),end='')\n",
    "        if cntSpace == 2:\n",
    "            break\n",
    "    return\n",
    "wordUpperCase('Python Made Easy')\n",
    "            "
   ]
  },
  {
   "cell_type": "markdown",
   "metadata": {},
   "source": [
    "###List\n",
    "- one of the data structure in python\n",
    "- Data Structure means to store,sort and search options\n",
    "- Its one common Data Structure in Python,the items of list seperated by comma and enclosed in square brackets []\n",
    "            -Example\n",
    "                -List1 = [1,2,3,4,5]\n",
    "                -List2 = [\"Gitam\",1,2,1.89,\"Vizag\"]"
   ]
  },
  {
   "cell_type": "code",
   "execution_count": 105,
   "metadata": {},
   "outputs": [
    {
     "name": "stdout",
     "output_type": "stream",
     "text": [
      "[1, 8, 16, 9, 2]\n",
      "1\n",
      "8\n",
      "2\n",
      "9\n",
      "[16, 9, 2]\n",
      "[8, 16, 9]\n",
      "[1, 8, 16, 9]\n"
     ]
    }
   ],
   "source": [
    "li = [1,8,16,9,2]\n",
    "print(li)\n",
    "print(li[0])\n",
    "print(li[1])\n",
    "print(li[-1])\n",
    "print(li[-2])\n",
    "print(li[2:])\n",
    "print(li[1:4])\n",
    "print(li[0:-1])\n"
   ]
  },
  {
   "cell_type": "code",
   "execution_count": 106,
   "metadata": {},
   "outputs": [
    {
     "name": "stdout",
     "output_type": "stream",
     "text": [
      "['Gitam', 1582, 2018, 2019, 'Vizag']\n",
      "['Gitam', 1234, 2018, 2019, 'Vizag']\n"
     ]
    }
   ],
   "source": [
    "li = [\"Gitam\",1582,2018,2019,\"Vizag\"]\n",
    "print(li)\n",
    "li[1]=1234\n",
    "print(li)"
   ]
  },
  {
   "cell_type": "code",
   "execution_count": 107,
   "metadata": {},
   "outputs": [
    {
     "name": "stdout",
     "output_type": "stream",
     "text": [
      "['Gitam', 1234, 2018, 'Vizag']\n"
     ]
    }
   ],
   "source": [
    "del li[3]\n",
    "print(li)"
   ]
  },
  {
   "cell_type": "code",
   "execution_count": 114,
   "metadata": {},
   "outputs": [
    {
     "name": "stdout",
     "output_type": "stream",
     "text": [
      "5\n",
      "[1, 2, 3, 4, 5, 1, 2, 3, 4, 5, 1, 2, 3, 4, 5, 1, 2, 3, 4, 5, 1, 2, 3, 4, 5, 1, 2, 3, 4, 5]\n",
      "True\n",
      "False\n",
      "1 2 3 4 5 \n",
      "1 2 3 4 5 "
     ]
    }
   ],
   "source": [
    "# Basic List Oeartions\n",
    "li = [1,2,3,4,5]\n",
    "print(len(li))\n",
    "print(li*6)\n",
    "print(4 in li)\n",
    "print(10 in li)\n",
    "for i in range(len(li)):\n",
    "    print(li[i],end=' ')\n",
    "print()\n",
    "for i in li:# another way to print the elements in the list without using range function\n",
    "    print(i,end=' ')"
   ]
  },
  {
   "cell_type": "code",
   "execution_count": 118,
   "metadata": {},
   "outputs": [
    {
     "name": "stdout",
     "output_type": "stream",
     "text": [
      "25\n",
      "1\n",
      "56\n",
      "11\n"
     ]
    }
   ],
   "source": [
    "# Basic list Functions\n",
    "li = [1,9,16,25,5]\n",
    "print(max(li))#max\n",
    "print(min(li))#min\n",
    "print(sum(li))#sum\n",
    "print(sum(li)//len(li))#avg"
   ]
  },
  {
   "cell_type": "code",
   "execution_count": 129,
   "metadata": {},
   "outputs": [
    {
     "data": {
      "text/plain": [
       "2"
      ]
     },
     "execution_count": 129,
     "metadata": {},
     "output_type": "execute_result"
    }
   ],
   "source": [
    "#methods of list\n",
    "li =[1,9,16,25,5]\n",
    "li.append(29)# appends element at the last position\n",
    "li.insert(2,56)# adds element at a particular position\n",
    "li.append(9)\n",
    "li.count(9)\n",
    "li.index(56)\n"
   ]
  },
  {
   "cell_type": "code",
   "execution_count": 130,
   "metadata": {},
   "outputs": [
    {
     "data": {
      "text/plain": [
       "[1, 5, 9, 9, 16, 25, 29, 56]"
      ]
     },
     "execution_count": 130,
     "metadata": {},
     "output_type": "execute_result"
    }
   ],
   "source": [
    "#methods of list object\n",
    "li.sort()#sorts the elements in the list in ascending order\n",
    "li\n"
   ]
  },
  {
   "cell_type": "code",
   "execution_count": 132,
   "metadata": {},
   "outputs": [
    {
     "data": {
      "text/plain": [
       "[1, 9, 9, 16, 25]"
      ]
     },
     "execution_count": 132,
     "metadata": {},
     "output_type": "execute_result"
    }
   ],
   "source": [
    "li.pop()# removes last element in the list\n",
    "li.pop(1)\n",
    "li"
   ]
  },
  {
   "cell_type": "code",
   "execution_count": 134,
   "metadata": {},
   "outputs": [
    {
     "data": {
      "text/plain": [
       "[1, 1, 1, 6, 6, 9, 9, 16, 19, 19, 25, 25, 25]"
      ]
     },
     "execution_count": 134,
     "metadata": {},
     "output_type": "execute_result"
    }
   ],
   "source": [
    "li1 = [1,6,19,25]\n",
    "li.extend(li1)\n",
    "li.reverse()\n",
    "li.sort()\n",
    "li"
   ]
  },
  {
   "cell_type": "code",
   "execution_count": 145,
   "metadata": {},
   "outputs": [
    {
     "name": "stdout",
     "output_type": "stream",
     "text": [
      "45\n",
      "22\n"
     ]
    }
   ],
   "source": [
    "# function to return large number from the input of list \n",
    "def largeNumber(li):\n",
    "    li.sort()\n",
    "    return li[-1]\n",
    "def genericLarge(li,n):\n",
    "    li.sort()\n",
    "    return li[-n]\n",
    "li = [19,1,25,6,9,45,22]\n",
    "print(largeNumber(li))\n",
    "print(genericLarge(li,3))"
   ]
  },
  {
   "cell_type": "code",
   "execution_count": 146,
   "metadata": {},
   "outputs": [
    {
     "name": "stdout",
     "output_type": "stream",
     "text": [
      "1\n",
      "19\n"
     ]
    }
   ],
   "source": [
    "# Function to find least and Generic Least number from the list\n",
    "def leastNumber(li):\n",
    "    li.sort()\n",
    "    return li[0]\n",
    "def genericLeastNumber(li,n):\n",
    "    li.sort()\n",
    "    return li[n-1]\n",
    "li=[19,1,25,6,9,45,22]\n",
    "print(leastNumber(li))\n",
    "print(genericLeastNumber(li,4))\n"
   ]
  },
  {
   "cell_type": "markdown",
   "metadata": {},
   "source": [
    "### File Handling in Python\n",
    "- File - document which contains some information and resides on permanent devices\n",
    "- Different types of file -- .txt,.pdf,.doc,.ppt and etc\n",
    "- input -- Keyboard\n",
    "- output - file system"
   ]
  },
  {
   "cell_type": "code",
   "execution_count": 155,
   "metadata": {},
   "outputs": [
    {
     "name": "stdout",
     "output_type": "stream",
     "text": [
      "File is Successfully created and data has inserted\n"
     ]
    }
   ],
   "source": [
    "# Function to create file and write some data to the data\n",
    "# Mode -- w (it creates the file and write to the same data)\n",
    "#   if the file already exists with same name then it will rewrite the data\n",
    "def createFile(filename):\n",
    "    f = open(filename,'w')\n",
    "    for i in range(10):\n",
    "        f.write('This is %d line \\n' % i)\n",
    "    print('File is Successfully created and data has inserted')\n",
    "    return\n",
    "createFile('data.txt')"
   ]
  },
  {
   "cell_type": "code",
   "execution_count": 148,
   "metadata": {},
   "outputs": [
    {
     "data": {
      "text/plain": [
       "'C:\\\\Users\\\\Personal\\\\Desktop\\\\Problem Solving and Programming'"
      ]
     },
     "execution_count": 148,
     "metadata": {},
     "output_type": "execute_result"
    }
   ],
   "source": [
    "pwd\n"
   ]
  },
  {
   "cell_type": "code",
   "execution_count": 153,
   "metadata": {},
   "outputs": [
    {
     "name": "stdout",
     "output_type": "stream",
     "text": [
      "completed succesfully\n"
     ]
    }
   ],
   "source": [
    "def createFile(filename):\n",
    "    f = open(filename,'w')\n",
    "    f.write('Gitam Vizag Python Training')\n",
    "    print('completed succesfully')\n",
    "    return\n",
    "createFile('data.txt')"
   ]
  },
  {
   "cell_type": "code",
   "execution_count": 156,
   "metadata": {},
   "outputs": [
    {
     "name": "stdout",
     "output_type": "stream",
     "text": [
      "Program Completed Succesfully\n"
     ]
    }
   ],
   "source": [
    "def appendMode(filename):\n",
    "    f = open(filename,'a')\n",
    "    f.write('Gitam Vizag\\n')\n",
    "    f.write('Python Programming\\n')\n",
    "    print('Program Completed Succesfully')\n",
    "    return\n",
    "appendMode('data.txt')"
   ]
  },
  {
   "cell_type": "code",
   "execution_count": 157,
   "metadata": {},
   "outputs": [
    {
     "name": "stdout",
     "output_type": "stream",
     "text": [
      "This is 0 line \n",
      "This is 1 line \n",
      "This is 2 line \n",
      "This is 3 line \n",
      "This is 4 line \n",
      "This is 5 line \n",
      "This is 6 line \n",
      "This is 7 line \n",
      "This is 8 line \n",
      "This is 9 line \n",
      "Gitam Vizag\n",
      "Python Programming\n",
      "\n"
     ]
    }
   ],
   "source": [
    "# Function to read the file\n",
    "def readFileData(filename):\n",
    "    f = open(filename,'r')\n",
    "    if f.mode == 'r':\n",
    "        a = f.read()\n",
    "        print(a)\n",
    "    f.close()\n",
    "    return\n",
    "readFileData('data.txt')"
   ]
  },
  {
   "cell_type": "code",
   "execution_count": 158,
   "metadata": {},
   "outputs": [
    {
     "name": "stdout",
     "output_type": "stream",
     "text": [
      "['Python', 'Programming']\n"
     ]
    }
   ],
   "source": [
    "# Analysis on the file -- Word count, char count, Digit count\n",
    "s1 = \"Python Programming\"\n",
    "print(s1.split())"
   ]
  },
  {
   "cell_type": "code",
   "execution_count": 161,
   "metadata": {},
   "outputs": [
    {
     "data": {
      "text/plain": [
       "44"
      ]
     },
     "execution_count": 161,
     "metadata": {},
     "output_type": "execute_result"
    }
   ],
   "source": [
    "# Word count -- Input File\n",
    "def wordCount(filename):\n",
    "    with open(filename,'r') as f:#idomatic programming approach\n",
    "        if f.mode == 'r':\n",
    "            a = f.read()\n",
    "            li = a.split()\n",
    "    return len(li)\n",
    "wordCount('data.txt')"
   ]
  },
  {
   "cell_type": "code",
   "execution_count": 165,
   "metadata": {},
   "outputs": [
    {
     "data": {
      "text/plain": [
       "10"
      ]
     },
     "execution_count": 165,
     "metadata": {},
     "output_type": "execute_result"
    }
   ],
   "source": [
    "# Specific Word count  from the file\n",
    "# Example #1:\n",
    "# Input --This\n",
    "#Output -- 10\n",
    "# Example #2:\n",
    "#Input --Gitam\n",
    "#Output --1\n",
    "def specificWordCount(filename,word):\n",
    "    with open(filename,'r') as f:\n",
    "        if f.mode == 'r':\n",
    "            a = f.read()\n",
    "            li = a.split()\n",
    "    return li.count(word)\n",
    "specificWordCount('data.txt','This')\n",
    "            \n",
    "            \n"
   ]
  },
  {
   "cell_type": "code",
   "execution_count": 167,
   "metadata": {},
   "outputs": [
    {
     "data": {
      "text/plain": [
       "191"
      ]
     },
     "execution_count": 167,
     "metadata": {},
     "output_type": "execute_result"
    }
   ],
   "source": [
    "# Find the function to find the char count from the input file\n",
    "def charCount(filename):\n",
    "    with open(filename,'r') as f:\n",
    "        if f.mode == 'r':\n",
    "            a= f.read()\n",
    "            li = list(a)# converts the input string into sequence of charactersmand finding the len of list becomes as character\n",
    "            #count of the input file\n",
    "    return len(li)\n",
    "charCount('data.txt')"
   ]
  },
  {
   "cell_type": "code",
   "execution_count": 168,
   "metadata": {},
   "outputs": [
    {
     "name": "stdout",
     "output_type": "stream",
     "text": [
      "['P', 'y', 't', 'h', 'o', 'n', ' ', 'P', 'r', 'o', 'g', 'r', 'a', 'm', 'm', 'i', 'n', 'g']\n"
     ]
    }
   ],
   "source": [
    "s = \"Python Programming\"\n",
    "li = list(s)\n",
    "print(li)"
   ]
  },
  {
   "cell_type": "code",
   "execution_count": null,
   "metadata": {},
   "outputs": [],
   "source": [
    "s = \"PythonProgramming\""
   ]
  },
  {
   "cell_type": "code",
   "execution_count": 173,
   "metadata": {},
   "outputs": [
    {
     "data": {
      "text/plain": [
       "13"
      ]
     },
     "execution_count": 173,
     "metadata": {},
     "output_type": "execute_result"
    }
   ],
   "source": [
    "# Find no of lines or rows in the given input stream\n",
    "def findLineCount(filename):\n",
    "    with open(filename,'r') as f:\n",
    "        if f.mode == 'r':\n",
    "            a = f.read()\n",
    "            li = a.split('\\n')\n",
    "    return len(li)\n",
    "findLineCount('data.txt')"
   ]
  },
  {
   "cell_type": "code",
   "execution_count": 175,
   "metadata": {},
   "outputs": [
    {
     "data": {
      "text/plain": [
       "'Uppercase : 14 Lower Case : 113 Digit : 10'"
      ]
     },
     "execution_count": 175,
     "metadata": {},
     "output_type": "execute_result"
    }
   ],
   "source": [
    "# Finding the function to find the upper and lower case characters from the input stream\n",
    "def caseCount(filename):\n",
    "    cntUpper =0\n",
    "    cntLower =0\n",
    "    cntDigit =0\n",
    "    with open(filename,'r') as f:\n",
    "        if f.mode == 'r':\n",
    "            a=f.read()\n",
    "            li = list(a)\n",
    "    for i in range(len(li)):\n",
    "        if ord(li[i]) >= 65 and ord(li[i]) <= 90:\n",
    "               cntUpper +=1\n",
    "        elif ord(li[i]) >= 97 and ord(li[i])<=122:\n",
    "               cntLower +=1\n",
    "        elif ord(li[i])>= 48 and ord(li[i])<=57:\n",
    "               cntDigit+=1\n",
    "    output = 'Uppercase : {0} Lower Case : {1} Digit : {2}'.format(cntUpper,cntLower,cntDigit)\n",
    "    return output\n",
    "caseCount('data.txt')"
   ]
  },
  {
   "cell_type": "code",
   "execution_count": 5,
   "metadata": {},
   "outputs": [
    {
     "name": "stdout",
     "output_type": "stream",
     "text": [
      "ooaoee\n"
     ]
    }
   ],
   "source": [
    "def isVowel(ch):  \n",
    "   \n",
    "    if (ch != 'a' and ch != 'e' and ch != 'i'\n",
    "        and ch != 'o' and ch != 'u'): \n",
    "        return False \n",
    "  \n",
    "    return True \n",
    "def replacingConsonants(s):  \n",
    "   \n",
    "    for i in range(0, len(s)):   \n",
    "  \n",
    "        # if, string element is vowel,  \n",
    "        # jump to next element  \n",
    "        if isVowel(s[i]):  \n",
    "            continue \n",
    "  \n",
    "        # check if consonant lies between two vowels,  \n",
    "        # if it lies, than replace it with nearest vowel  \n",
    "        else:   \n",
    "  \n",
    "            if s[i] > 'a' and s[i] < 'e':   \n",
    "  \n",
    "                # here the absolute difference of  \n",
    "                # ascii value is considered  \n",
    "                if (abs(ord(s[i]) - ord('a')) > abs(ord(s[i]) - ord('e'))):  \n",
    "                    s[i] = 'e' \n",
    "                else: \n",
    "                    s[i] = 'a' \n",
    "               \n",
    "            elif s[i] > 'e' and s[i] < 'i':   \n",
    "                if (abs(ord(s[i]) - ord('e')) > abs(ord(s[i]) - ord('i'))):  \n",
    "                    s[i] = 'i' \n",
    "                else: \n",
    "                    s[i] = 'e' \n",
    "               \n",
    "            elif (s[i] > 'i' and s[i] < 'o'):   \n",
    "                if (abs(ord(s[i]) - ord('i')) > abs(ord(s[i]) - ord('o'))): \n",
    "                    s[i] = 'o' \n",
    "                else: \n",
    "                    s[i] = 'i' \n",
    "               \n",
    "            elif (s[i] > 'o' and s[i] < 'u'):   \n",
    "                if (abs(ord(s[i]) - ord('o')) > abs(ord(s[i]) - ord('u'))):  \n",
    "                    s[i] = 'u' \n",
    "                else: \n",
    "                    s[i] = 'o' \n",
    "               \n",
    "            # when s[i] is equal to either  \n",
    "            # 'v', 'w', 'x', 'y', 'z'  \n",
    "            elif (s[i] > 'u'):  \n",
    "                s[i] = 'u' \n",
    "           \n",
    "    return ''.join(s)\n",
    "if __name__ == \"__main__\":  \n",
    "   \n",
    "    s = \"orange\" \n",
    "    print(replacingConsonants(list(s)))\n"
   ]
  },
  {
   "cell_type": "code",
   "execution_count": 14,
   "metadata": {},
   "outputs": [
    {
     "data": {
      "text/plain": [
       "16"
      ]
     },
     "execution_count": 14,
     "metadata": {},
     "output_type": "execute_result"
    }
   ],
   "source": [
    "def sumOfEven(str):\n",
    "    sum = 0\n",
    "    for i in range(len(str)):\n",
    "        if ord(str[i])>=48 and ord(str[i])<=57:\n",
    "            if (ord(str[i])) %  2 == 0:\n",
    "                sum = sum + int(str[i])\n",
    "    return sum\n",
    "sumOfEven('Applc18iation89')"
   ]
  },
  {
   "cell_type": "code",
   "execution_count": 30,
   "metadata": {},
   "outputs": [
    {
     "data": {
      "text/plain": [
       "['EASy', 'Python']"
      ]
     },
     "execution_count": 30,
     "metadata": {},
     "output_type": "execute_result"
    }
   ],
   "source": [
    "s1 = 'Learn Python Programming EASy'\n",
    "li = s1.split()\n",
    "(li[::-2])\n",
    " "
   ]
  },
  {
   "cell_type": "code",
   "execution_count": 31,
   "metadata": {},
   "outputs": [
    {
     "name": "stdout",
     "output_type": "stream",
     "text": [
      "2\n"
     ]
    }
   ],
   "source": [
    "def no_occurances(s,c):\n",
    "    a=0\n",
    "    for i in range(len(s)):\n",
    "        if ord(s[i])==ord(c):\n",
    "            a+=1\n",
    "    print(a)\n",
    "    return\n",
    "no_occurances('Application','p')"
   ]
  },
  {
   "cell_type": "code",
   "execution_count": 32,
   "metadata": {},
   "outputs": [
    {
     "name": "stdout",
     "output_type": "stream",
     "text": [
      "['P', 'y', 't', 'h', 'o', 'n', 'P', 'r', 'o', 'g', 'r', 'M', 'M', 'I', 'N', 'g']\n"
     ]
    }
   ],
   "source": [
    "s = \"PythonProgrMMINg\"\n",
    "li = list(s)\n",
    "print(li)"
   ]
  },
  {
   "cell_type": "code",
   "execution_count": 1,
   "metadata": {},
   "outputs": [
    {
     "name": "stdout",
     "output_type": "stream",
     "text": [
      "pYTHONpROGRmminG\n"
     ]
    }
   ],
   "source": [
    "def convertOpposite(str): \n",
    "    ln = len(str) \n",
    "  \n",
    "    # Conversion according to ASCII values \n",
    "    for i in range(ln): \n",
    "        if str[i] >= 'a' and str[i] <= 'z': \n",
    "  \n",
    "            # Convert lowercase to uppercase \n",
    "            str[i] = chr(ord(str[i]) - 32) \n",
    "  \n",
    "        elif str[i] >= 'A' and str[i] <= 'Z': \n",
    "  \n",
    "            # Convert lowercase to uppercase \n",
    "            str[i] = chr(ord(str[i]) + 32) \n",
    "  \n",
    "# Driver code \n",
    "if __name__ == \"__main__\": \n",
    "    str = \"PythonProgrMMINg\"\n",
    "    str = list(str) \n",
    "  \n",
    "    # Calling the Function \n",
    "    convertOpposite(str) \n",
    "  \n",
    "    str = ''.join(str) \n",
    "    print(str) \n",
    "        \n",
    "        "
   ]
  },
  {
   "cell_type": "code",
   "execution_count": 2,
   "metadata": {},
   "outputs": [
    {
     "name": "stdout",
     "output_type": "stream",
     "text": [
      " python  easy"
     ]
    }
   ],
   "source": [
    "def wordLowerCase(s):\n",
    "    spaceCnt = 0\n",
    "    for x in range(len(s)):        \n",
    "        if ord(s[x]) == 32:\n",
    "            print(end=' ')\n",
    "            spaceCnt += 1 # spaceCnt = spaceCnt + 1          \n",
    "        if spaceCnt %2!=0:\n",
    "            if ord(s[x]) >= 65 and ord(s[x]) <= 90:\n",
    "                print(chr(ord(s[x])+32),end=\"\")\n",
    "            elif ord(s[x]) >= 97 and ord(s[x]) <=122:\n",
    "                print(s[x],end=\"\")\n",
    "    return\n",
    "wordLowerCase('Learn Python Programming EASy')"
   ]
  },
  {
   "cell_type": "code",
   "execution_count": 6,
   "metadata": {},
   "outputs": [
    {
     "data": {
      "text/plain": [
       "'orang '"
      ]
     },
     "execution_count": 6,
     "metadata": {},
     "output_type": "execute_result"
    }
   ],
   "source": [
    "def removeVowels(word):\n",
    "    vowels = ('a', 'e', 'i', 'o', 'u')\n",
    "    for c in word:\n",
    "        if c in vowels:\n",
    "            res = word.replace(c,\" \")\n",
    "    return res \n",
    "removeVowels('orange')"
   ]
  },
  {
   "cell_type": "code",
   "execution_count": 5,
   "metadata": {},
   "outputs": [
    {
     "data": {
      "text/plain": [
       "'r n g'"
      ]
     },
     "execution_count": 5,
     "metadata": {},
     "output_type": "execute_result"
    }
   ],
   "source": [
    "def removeVowels(word):\n",
    "    letters = []            # make an empty list to hold the non-vowels\n",
    "    for char in word:       # for each character in the word\n",
    "        if char.lower() not in 'aeiou':    # if the letter is not a vowel\n",
    "            letters.append(char)           # add it to the list of non-vowels\n",
    "    return ' '.join(letters) # join the list of non-vowels together into a string\n",
    "removeVowels('orange')"
   ]
  },
  {
   "cell_type": "code",
   "execution_count": null,
   "metadata": {},
   "outputs": [],
   "source": []
  }
 ],
 "metadata": {
  "kernelspec": {
   "display_name": "Python 3",
   "language": "python",
   "name": "python3"
  },
  "language_info": {
   "codemirror_mode": {
    "name": "ipython",
    "version": 3
   },
   "file_extension": ".py",
   "mimetype": "text/x-python",
   "name": "python",
   "nbconvert_exporter": "python",
   "pygments_lexer": "ipython3",
   "version": "3.6.4"
  }
 },
 "nbformat": 4,
 "nbformat_minor": 2
}
