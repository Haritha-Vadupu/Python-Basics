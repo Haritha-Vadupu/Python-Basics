{
 "cells": [
  {
   "cell_type": "markdown",
   "metadata": {},
   "source": [
    "### Control Statements\n",
    "- Conditional Statements\n",
    "    - if-else\n",
    "- Iteration statements or loop statements\n",
    "    - while\n",
    "    - for\n",
    "    \n"
   ]
  },
  {
   "cell_type": "code",
   "execution_count": 4,
   "metadata": {},
   "outputs": [
    {
     "name": "stdout",
     "output_type": "stream",
     "text": [
      " 2019\n",
      "not leap year\n"
     ]
    }
   ],
   "source": [
    "# check wheter the input is leap or not\n",
    "year = int(input(' '))\n",
    "if year % 400 == 0 or (year % 10 != 0 and year % 4 ==0):\n",
    "    print('leap year')\n",
    "else:\n",
    "    print('not leap year')"
   ]
  },
  {
   "cell_type": "markdown",
   "metadata": {},
   "source": [
    "### while loop\n"
   ]
  },
  {
   "cell_type": "code",
   "execution_count": 6,
   "metadata": {},
   "outputs": [
    {
     "name": "stdout",
     "output_type": "stream",
     "text": [
      "enter a number :100\n",
      "1 2 3 4 5 6 7 8 9 10 11 12 13 14 15 16 17 18 19 20 21 22 23 24 25 26 27 28 29 30 31 32 33 34 35 36 37 38 39 40 41 42 43 44 45 46 47 48 49 50 51 52 53 54 55 56 57 58 59 60 61 62 63 64 65 66 67 68 69 70 71 72 73 74 75 76 77 78 79 80 81 82 83 84 85 86 87 88 89 90 91 92 93 94 95 96 97 98 99 100 "
     ]
    }
   ],
   "source": [
    "#print numbers from 1 to N\n",
    "# Input : 100\n",
    "# Output : 1 2 3 4 5 ---------100\n",
    "n = int(input('enter a number :'))\n",
    "i = 1\n",
    "while i<=n :\n",
    "    print(i,end=\" \")\n",
    "    i=i+1"
   ]
  },
  {
   "cell_type": "code",
   "execution_count": 10,
   "metadata": {},
   "outputs": [
    {
     "name": "stdout",
     "output_type": "stream",
     "text": [
      "enter a number :10\n",
      "30\n"
     ]
    }
   ],
   "source": [
    "#read number as a input\n",
    "#output as only even numbers from 1 to N\n",
    "n = int(input('enter a number :'))\n",
    "i = 1\n",
    "sum = 0\n",
    "while i<=n:\n",
    "    if i % 2 == 0:\n",
    "        sum = sum + i\n",
    "    i =i+1\n",
    "print(sum)\n",
    "    \n",
    "    \n",
    "\n",
    "\n"
   ]
  },
  {
   "cell_type": "code",
   "execution_count": 19,
   "metadata": {},
   "outputs": [
    {
     "name": "stdout",
     "output_type": "stream",
     "text": [
      "enter a number :123\n",
      "3 2 1 "
     ]
    }
   ],
   "source": [
    "# read a number as input\n",
    "#output has be digits of the number\n",
    "#input : 123\n",
    "#output : 321\n",
    "n = int(input('enter a number :'))\n",
    "while n != 0:\n",
    "    print(n%10,end=' ')\n",
    "    n = n // 10"
   ]
  },
  {
   "cell_type": "markdown",
   "metadata": {},
   "source": [
    "### Functional Programming\n",
    "- Simpe\n",
    "- Easy to understand\n",
    "- better Reusability\n",
    "- Lengthy program will be divide into sub programs\n"
   ]
  },
  {
   "cell_type": "code",
   "execution_count": null,
   "metadata": {},
   "outputs": [],
   "source": [
    "def nameoftheFunction(<parameters>):\n",
    "    Statements\n",
    "    return"
   ]
  },
  {
   "cell_type": "code",
   "execution_count": 23,
   "metadata": {},
   "outputs": [
    {
     "data": {
      "text/plain": [
       "24"
      ]
     },
     "execution_count": 23,
     "metadata": {},
     "output_type": "execute_result"
    }
   ],
   "source": [
    "# read a number\n",
    "# print the even digit sum from the number\n",
    "# input : 1234\n",
    "# output : 6(2+4)\n",
    "def evenDigitSum(n):\n",
    "    s = 0\n",
    "    while n != 0:\n",
    "        r = n % 10\n",
    "        if r % 2 == 0:\n",
    "            s = s+r\n",
    "        n = n//10\n",
    "    return s\n",
    "evenDigitSum(4589732226)\n",
    "\n",
    "\n",
    "    "
   ]
  },
  {
   "cell_type": "code",
   "execution_count": 36,
   "metadata": {},
   "outputs": [
    {
     "data": {
      "text/plain": [
       "9"
      ]
     },
     "execution_count": 36,
     "metadata": {},
     "output_type": "execute_result"
    }
   ],
   "source": [
    "#input : 19535\n",
    "#output : 9 (large digit of the given number)\n",
    "#functional programming\n",
    "def largeDigit(n):\n",
    "    large = 0\n",
    "    while n != 0:\n",
    "        r = n % 10\n",
    "        if large < r:\n",
    "             large = r\n",
    "        n = n // 10\n",
    "    return large\n",
    "largeDigit(19535)\n",
    "        \n",
    "    "
   ]
  },
  {
   "cell_type": "code",
   "execution_count": 34,
   "metadata": {},
   "outputs": [
    {
     "name": "stdout",
     "output_type": "stream",
     "text": [
      "yes\n",
      "no\n"
     ]
    }
   ],
   "source": [
    "# read a number as input\n",
    "# output yes or no\n",
    "# input :145\n",
    "# output : yes\n",
    "# input : 123\n",
    "# output : no\n",
    "# individual digit factorial sum is same as input number\n",
    "def factorial(n):\n",
    "    fact = 1\n",
    "    i = 1\n",
    "    while i <= n:\n",
    "        fact = fact * i\n",
    "        i = i +1\n",
    "    return fact\n",
    "def digitFactSum(n):\n",
    "    s = 0\n",
    "    buffer = n     //store the input value in buffer because n will become 0 after while loop\n",
    "    while n != 0:\n",
    "        r = n % 10\n",
    "        s += factorial(r)\n",
    "        n = n // 10\n",
    "    if buffer ==s:      \n",
    "        return \"yes\"\n",
    "    else :\n",
    "        return \"no\"\n",
    "    return\n",
    "print(digitFactSum(145))\n",
    "print(digitFactSum(123))\n",
    "    \n",
    "        \n"
   ]
  },
  {
   "cell_type": "code",
   "execution_count": 1,
   "metadata": {},
   "outputs": [
    {
     "name": "stdout",
     "output_type": "stream",
     "text": [
      "palindrome\n",
      "not a palindrome\n"
     ]
    }
   ],
   "source": [
    "# read a number a input\n",
    "# output as palindrome or not a palindrome\n",
    "# palindrome ==== a number after reversing is same as the original number\n",
    "# input :121\n",
    "# output : palindrome\n",
    "#input : 123\n",
    "# output : not a palindrome\n",
    "def isPalindrome(n):\n",
    "    rev = 0\n",
    "    buffer = n\n",
    "    while n != 0:\n",
    "        rev = rev * 10 + (n%10)\n",
    "        n = n // 10\n",
    "    if buffer == rev:\n",
    "        return \"palindrome\"\n",
    "    return \"not a palindrome\"\n",
    "print(isPalindrome(121))\n",
    "print(isPalindrome(123))\n",
    "    \n"
   ]
  },
  {
   "cell_type": "code",
   "execution_count": 2,
   "metadata": {},
   "outputs": [
    {
     "name": "stdout",
     "output_type": "stream",
     "text": [
      "11 12 13 14 15 16 17 18 19 20 21 22 23 24 25 "
     ]
    }
   ],
   "source": [
    "#function  to print the numbers between two limits\n",
    "# input : 11 25\n",
    "# output : 11 12 13 14...........25\n",
    "def printSeries(lb,ub):\n",
    "    for x in range(lb,ub+1):      // range function will not consider the upperbound so the second parameter will be ub+1\n",
    "        print(x,end=' ')\n",
    "    return\n",
    "printSeries(11,25)"
   ]
  },
  {
   "cell_type": "code",
   "execution_count": 6,
   "metadata": {},
   "outputs": [
    {
     "name": "stdout",
     "output_type": "stream",
     "text": [
      "500 504 508 512 516 520 "
     ]
    }
   ],
   "source": [
    "#function to print the alternate numbers\n",
    "#[500,520]--502 504.........520\n",
    "#[100,140]--100 104 108 112-------140\n",
    "def alternateNumbers(lb,ub):\n",
    "    for x in range(lb,ub+1,4):\n",
    "        print(x,end=' ')\n",
    "    return\n",
    "alternateNumbers(500,520)\n",
    "    "
   ]
  },
  {
   "cell_type": "code",
   "execution_count": 1,
   "metadata": {},
   "outputs": [
    {
     "name": "stdout",
     "output_type": "stream",
     "text": [
      "enter a number6\n",
      "Factors of 6 = [1, 2, 3, 6]\n"
     ]
    }
   ],
   "source": [
    "num=int(input(\"enter a number\"))\n",
    "factors=[]\n",
    "for i in range(1,num+1):\n",
    "    if num%i==0:\n",
    "       factors.append(i)\n",
    "\n",
    "print (\"Factors of {} = {}\".format(num,factors))"
   ]
  },
  {
   "cell_type": "code",
   "execution_count": null,
   "metadata": {},
   "outputs": [],
   "source": [
    "def isPrime(n):\n",
    "    flag = True\n",
    "    for i in range(2,n//2+1):\n",
    "        if n% i == 0:\n",
    "            flag = false\n",
    "            return flag\n",
    "        return flag\n",
    "isPrime(17)"
   ]
  },
  {
   "cell_type": "code",
   "execution_count": 4,
   "metadata": {},
   "outputs": [
    {
     "name": "stdout",
     "output_type": "stream",
     "text": [
      "9\n"
     ]
    }
   ],
   "source": [
    "count = 0\n",
    "for i in range(1,10 ):\n",
    "    if str(i) == str(i)[::-1]:\n",
    "        count += 1\n",
    "print(count)\n"
   ]
  },
  {
   "cell_type": "code",
   "execution_count": 7,
   "metadata": {},
   "outputs": [
    {
     "data": {
      "text/plain": [
       "18"
      ]
     },
     "execution_count": 7,
     "metadata": {},
     "output_type": "execute_result"
    }
   ],
   "source": [
    "def num_palindromes(start, end):\n",
    "    count = 0\n",
    "    for i in range(start, end + 1):\n",
    "        if str(i) == str(i)[::-1]:\n",
    "            count += 1\n",
    "    return count\n",
    "num_palindromes(1,100)"
   ]
  },
  {
   "cell_type": "code",
   "execution_count": 8,
   "metadata": {},
   "outputs": [
    {
     "name": "stdout",
     "output_type": "stream",
     "text": [
      "Prime numbers between 900 and 1000 are:\n",
      "907\n",
      "911\n",
      "919\n",
      "929\n",
      "937\n",
      "941\n",
      "947\n",
      "953\n",
      "967\n",
      "971\n",
      "977\n",
      "983\n",
      "991\n",
      "997\n"
     ]
    }
   ],
   "source": [
    "lower = 1\n",
    "upper = 1000\n",
    "count = 0\n",
    "print(\"Prime numbers between\",lower,\"and\",upper,\"are:\")\n",
    "\n",
    "for num in range(lower,upper + 1):\n",
    "   # prime numbers are greater than 1\n",
    "   if num > 1:\n",
    "       for i in range(2,num):\n",
    "           if (num % i) == 0:\n",
    "               break\n",
    "       else:\n",
    "           print(num)"
   ]
  },
  {
   "cell_type": "code",
   "execution_count": null,
   "metadata": {},
   "outputs": [],
   "source": []
  },
  {
   "cell_type": "code",
   "execution_count": null,
   "metadata": {},
   "outputs": [],
   "source": []
  },
  {
   "cell_type": "code",
   "execution_count": null,
   "metadata": {},
   "outputs": [],
   "source": []
  }
 ],
 "metadata": {
  "kernelspec": {
   "display_name": "Python 3",
   "language": "python",
   "name": "python3"
  },
  "language_info": {
   "codemirror_mode": {
    "name": "ipython",
    "version": 3
   },
   "file_extension": ".py",
   "mimetype": "text/x-python",
   "name": "python",
   "nbconvert_exporter": "python",
   "pygments_lexer": "ipython3",
   "version": "3.6.4"
  }
 },
 "nbformat": 4,
 "nbformat_minor": 2
}
